{
  "nbformat": 4,
  "nbformat_minor": 0,
  "metadata": {
    "colab": {
      "provenance": []
    },
    "kernelspec": {
      "name": "python3",
      "display_name": "Python 3"
    },
    "language_info": {
      "name": "python"
    }
  },
  "cells": [
    {
      "cell_type": "code",
      "execution_count": 1,
      "metadata": {
        "colab": {
          "base_uri": "https://localhost:8080/"
        },
        "id": "pPJtQNQFUFZU",
        "outputId": "27acfc41-8b7c-432b-9aca-d9cc85d6040b"
      },
      "outputs": [
        {
          "output_type": "stream",
          "name": "stdout",
          "text": [
            "Collecting sklearn.preprocessing\n",
            "  Downloading sklearn_preprocessing-0.1.0-py3-none-any.whl.metadata (70 bytes)\n",
            "Downloading sklearn_preprocessing-0.1.0-py3-none-any.whl (10 kB)\n",
            "Installing collected packages: sklearn.preprocessing\n",
            "Successfully installed sklearn.preprocessing-0.1.0\n"
          ]
        }
      ],
      "source": [
        "!pip install sklearn.preprocessing"
      ]
    },
    {
      "cell_type": "code",
      "source": [
        "!pip install pykan\n"
      ],
      "metadata": {
        "colab": {
          "base_uri": "https://localhost:8080/"
        },
        "id": "2dVjN5hUQN9K",
        "outputId": "6e73d76e-2042-4ac7-eb1f-8f15a4644927"
      },
      "execution_count": 2,
      "outputs": [
        {
          "output_type": "stream",
          "name": "stdout",
          "text": [
            "Collecting pykan\n",
            "  Downloading pykan-0.2.6-py3-none-any.whl.metadata (11 kB)\n",
            "Downloading pykan-0.2.6-py3-none-any.whl (77 kB)\n",
            "\u001b[2K   \u001b[90m━━━━━━━━━━━━━━━━━━━━━━━━━━━━━━━━━━━━━━━━\u001b[0m \u001b[32m77.3/77.3 kB\u001b[0m \u001b[31m2.2 MB/s\u001b[0m eta \u001b[36m0:00:00\u001b[0m\n",
            "\u001b[?25hInstalling collected packages: pykan\n",
            "Successfully installed pykan-0.2.6\n"
          ]
        }
      ]
    },
    {
      "cell_type": "code",
      "source": [
        "from kan import *\n",
        "from kan.utils import create_dataset_from_data\n",
        "import torch\n",
        "from sklearn.model_selection import train_test_split\n",
        "import sklearn\n",
        "import pandas as pd\n",
        "from sklearn.preprocessing import StandardScaler, MinMaxScaler\n",
        "\n",
        "device = torch.device(\"cuda\" if torch.cuda.is_available() else \"cpu\" )\n",
        "print(device)\n",
        "\n",
        "S_model_hd = KAN(width=[7,5,1], grid=3, k=3, seed=1, device=device)\n",
        "#B_model_hd = KAN(width=[5,10,1], grid=3, k=3, seed=42, device=device)\n",
        "\n"
      ],
      "metadata": {
        "colab": {
          "base_uri": "https://localhost:8080/"
        },
        "id": "YG2Ha9aQODsp",
        "outputId": "1de09632-8cfa-4c04-b8fe-71ee7ce88a61"
      },
      "execution_count": 13,
      "outputs": [
        {
          "output_type": "stream",
          "name": "stdout",
          "text": [
            "cpu\n",
            "checkpoint directory created: ./model\n",
            "saving model version 0.0\n"
          ]
        }
      ]
    },
    {
      "cell_type": "code",
      "source": [
        "house_dataset_kan = pd.read_csv('/content/kc_house_data.csv')\n",
        "\n",
        "\n",
        "house_dataset_kan.isnull().sum()\n",
        "house_dataset_kan.describe()"
      ],
      "metadata": {
        "colab": {
          "base_uri": "https://localhost:8080/",
          "height": 320
        },
        "id": "vVjf9v0ZmX-6",
        "outputId": "7daee059-53d7-478f-c0bf-2eabbbb9a292"
      },
      "execution_count": 40,
      "outputs": [
        {
          "output_type": "execute_result",
          "data": {
            "text/plain": [
              "                 id         price      bedrooms     bathrooms   sqft_living  \\\n",
              "count  2.161300e+04  2.161300e+04  21613.000000  21613.000000  21613.000000   \n",
              "mean   4.580302e+09  5.400881e+05      3.370842      2.114757   2079.899736   \n",
              "std    2.876566e+09  3.671272e+05      0.930062      0.770163    918.440897   \n",
              "min    1.000102e+06  7.500000e+04      0.000000      0.000000    290.000000   \n",
              "25%    2.123049e+09  3.219500e+05      3.000000      1.750000   1427.000000   \n",
              "50%    3.904930e+09  4.500000e+05      3.000000      2.250000   1910.000000   \n",
              "75%    7.308900e+09  6.450000e+05      4.000000      2.500000   2550.000000   \n",
              "max    9.900000e+09  7.700000e+06     33.000000      8.000000  13540.000000   \n",
              "\n",
              "           sqft_lot        floors    waterfront          view     condition  \\\n",
              "count  2.161300e+04  21613.000000  21613.000000  21613.000000  21613.000000   \n",
              "mean   1.510697e+04      1.494309      0.007542      0.234303      3.409430   \n",
              "std    4.142051e+04      0.539989      0.086517      0.766318      0.650743   \n",
              "min    5.200000e+02      1.000000      0.000000      0.000000      1.000000   \n",
              "25%    5.040000e+03      1.000000      0.000000      0.000000      3.000000   \n",
              "50%    7.618000e+03      1.500000      0.000000      0.000000      3.000000   \n",
              "75%    1.068800e+04      2.000000      0.000000      0.000000      4.000000   \n",
              "max    1.651359e+06      3.500000      1.000000      4.000000      5.000000   \n",
              "\n",
              "              grade    sqft_above  sqft_basement      yr_built  yr_renovated  \\\n",
              "count  21613.000000  21613.000000   21613.000000  21613.000000  21613.000000   \n",
              "mean       7.656873   1788.390691     291.509045   1971.005136     84.402258   \n",
              "std        1.175459    828.090978     442.575043     29.373411    401.679240   \n",
              "min        1.000000    290.000000       0.000000   1900.000000      0.000000   \n",
              "25%        7.000000   1190.000000       0.000000   1951.000000      0.000000   \n",
              "50%        7.000000   1560.000000       0.000000   1975.000000      0.000000   \n",
              "75%        8.000000   2210.000000     560.000000   1997.000000      0.000000   \n",
              "max       13.000000   9410.000000    4820.000000   2015.000000   2015.000000   \n",
              "\n",
              "            zipcode           lat          long  sqft_living15     sqft_lot15  \n",
              "count  21613.000000  21613.000000  21613.000000   21613.000000   21613.000000  \n",
              "mean   98077.939805     47.560053   -122.213896    1986.552492   12768.455652  \n",
              "std       53.505026      0.138564      0.140828     685.391304   27304.179631  \n",
              "min    98001.000000     47.155900   -122.519000     399.000000     651.000000  \n",
              "25%    98033.000000     47.471000   -122.328000    1490.000000    5100.000000  \n",
              "50%    98065.000000     47.571800   -122.230000    1840.000000    7620.000000  \n",
              "75%    98118.000000     47.678000   -122.125000    2360.000000   10083.000000  \n",
              "max    98199.000000     47.777600   -121.315000    6210.000000  871200.000000  "
            ],
            "text/html": [
              "\n",
              "  <div id=\"df-bf3023c4-8732-44f7-aefd-66b7b13858d0\" class=\"colab-df-container\">\n",
              "    <div>\n",
              "<style scoped>\n",
              "    .dataframe tbody tr th:only-of-type {\n",
              "        vertical-align: middle;\n",
              "    }\n",
              "\n",
              "    .dataframe tbody tr th {\n",
              "        vertical-align: top;\n",
              "    }\n",
              "\n",
              "    .dataframe thead th {\n",
              "        text-align: right;\n",
              "    }\n",
              "</style>\n",
              "<table border=\"1\" class=\"dataframe\">\n",
              "  <thead>\n",
              "    <tr style=\"text-align: right;\">\n",
              "      <th></th>\n",
              "      <th>id</th>\n",
              "      <th>price</th>\n",
              "      <th>bedrooms</th>\n",
              "      <th>bathrooms</th>\n",
              "      <th>sqft_living</th>\n",
              "      <th>sqft_lot</th>\n",
              "      <th>floors</th>\n",
              "      <th>waterfront</th>\n",
              "      <th>view</th>\n",
              "      <th>condition</th>\n",
              "      <th>grade</th>\n",
              "      <th>sqft_above</th>\n",
              "      <th>sqft_basement</th>\n",
              "      <th>yr_built</th>\n",
              "      <th>yr_renovated</th>\n",
              "      <th>zipcode</th>\n",
              "      <th>lat</th>\n",
              "      <th>long</th>\n",
              "      <th>sqft_living15</th>\n",
              "      <th>sqft_lot15</th>\n",
              "    </tr>\n",
              "  </thead>\n",
              "  <tbody>\n",
              "    <tr>\n",
              "      <th>count</th>\n",
              "      <td>2.161300e+04</td>\n",
              "      <td>2.161300e+04</td>\n",
              "      <td>21613.000000</td>\n",
              "      <td>21613.000000</td>\n",
              "      <td>21613.000000</td>\n",
              "      <td>2.161300e+04</td>\n",
              "      <td>21613.000000</td>\n",
              "      <td>21613.000000</td>\n",
              "      <td>21613.000000</td>\n",
              "      <td>21613.000000</td>\n",
              "      <td>21613.000000</td>\n",
              "      <td>21613.000000</td>\n",
              "      <td>21613.000000</td>\n",
              "      <td>21613.000000</td>\n",
              "      <td>21613.000000</td>\n",
              "      <td>21613.000000</td>\n",
              "      <td>21613.000000</td>\n",
              "      <td>21613.000000</td>\n",
              "      <td>21613.000000</td>\n",
              "      <td>21613.000000</td>\n",
              "    </tr>\n",
              "    <tr>\n",
              "      <th>mean</th>\n",
              "      <td>4.580302e+09</td>\n",
              "      <td>5.400881e+05</td>\n",
              "      <td>3.370842</td>\n",
              "      <td>2.114757</td>\n",
              "      <td>2079.899736</td>\n",
              "      <td>1.510697e+04</td>\n",
              "      <td>1.494309</td>\n",
              "      <td>0.007542</td>\n",
              "      <td>0.234303</td>\n",
              "      <td>3.409430</td>\n",
              "      <td>7.656873</td>\n",
              "      <td>1788.390691</td>\n",
              "      <td>291.509045</td>\n",
              "      <td>1971.005136</td>\n",
              "      <td>84.402258</td>\n",
              "      <td>98077.939805</td>\n",
              "      <td>47.560053</td>\n",
              "      <td>-122.213896</td>\n",
              "      <td>1986.552492</td>\n",
              "      <td>12768.455652</td>\n",
              "    </tr>\n",
              "    <tr>\n",
              "      <th>std</th>\n",
              "      <td>2.876566e+09</td>\n",
              "      <td>3.671272e+05</td>\n",
              "      <td>0.930062</td>\n",
              "      <td>0.770163</td>\n",
              "      <td>918.440897</td>\n",
              "      <td>4.142051e+04</td>\n",
              "      <td>0.539989</td>\n",
              "      <td>0.086517</td>\n",
              "      <td>0.766318</td>\n",
              "      <td>0.650743</td>\n",
              "      <td>1.175459</td>\n",
              "      <td>828.090978</td>\n",
              "      <td>442.575043</td>\n",
              "      <td>29.373411</td>\n",
              "      <td>401.679240</td>\n",
              "      <td>53.505026</td>\n",
              "      <td>0.138564</td>\n",
              "      <td>0.140828</td>\n",
              "      <td>685.391304</td>\n",
              "      <td>27304.179631</td>\n",
              "    </tr>\n",
              "    <tr>\n",
              "      <th>min</th>\n",
              "      <td>1.000102e+06</td>\n",
              "      <td>7.500000e+04</td>\n",
              "      <td>0.000000</td>\n",
              "      <td>0.000000</td>\n",
              "      <td>290.000000</td>\n",
              "      <td>5.200000e+02</td>\n",
              "      <td>1.000000</td>\n",
              "      <td>0.000000</td>\n",
              "      <td>0.000000</td>\n",
              "      <td>1.000000</td>\n",
              "      <td>1.000000</td>\n",
              "      <td>290.000000</td>\n",
              "      <td>0.000000</td>\n",
              "      <td>1900.000000</td>\n",
              "      <td>0.000000</td>\n",
              "      <td>98001.000000</td>\n",
              "      <td>47.155900</td>\n",
              "      <td>-122.519000</td>\n",
              "      <td>399.000000</td>\n",
              "      <td>651.000000</td>\n",
              "    </tr>\n",
              "    <tr>\n",
              "      <th>25%</th>\n",
              "      <td>2.123049e+09</td>\n",
              "      <td>3.219500e+05</td>\n",
              "      <td>3.000000</td>\n",
              "      <td>1.750000</td>\n",
              "      <td>1427.000000</td>\n",
              "      <td>5.040000e+03</td>\n",
              "      <td>1.000000</td>\n",
              "      <td>0.000000</td>\n",
              "      <td>0.000000</td>\n",
              "      <td>3.000000</td>\n",
              "      <td>7.000000</td>\n",
              "      <td>1190.000000</td>\n",
              "      <td>0.000000</td>\n",
              "      <td>1951.000000</td>\n",
              "      <td>0.000000</td>\n",
              "      <td>98033.000000</td>\n",
              "      <td>47.471000</td>\n",
              "      <td>-122.328000</td>\n",
              "      <td>1490.000000</td>\n",
              "      <td>5100.000000</td>\n",
              "    </tr>\n",
              "    <tr>\n",
              "      <th>50%</th>\n",
              "      <td>3.904930e+09</td>\n",
              "      <td>4.500000e+05</td>\n",
              "      <td>3.000000</td>\n",
              "      <td>2.250000</td>\n",
              "      <td>1910.000000</td>\n",
              "      <td>7.618000e+03</td>\n",
              "      <td>1.500000</td>\n",
              "      <td>0.000000</td>\n",
              "      <td>0.000000</td>\n",
              "      <td>3.000000</td>\n",
              "      <td>7.000000</td>\n",
              "      <td>1560.000000</td>\n",
              "      <td>0.000000</td>\n",
              "      <td>1975.000000</td>\n",
              "      <td>0.000000</td>\n",
              "      <td>98065.000000</td>\n",
              "      <td>47.571800</td>\n",
              "      <td>-122.230000</td>\n",
              "      <td>1840.000000</td>\n",
              "      <td>7620.000000</td>\n",
              "    </tr>\n",
              "    <tr>\n",
              "      <th>75%</th>\n",
              "      <td>7.308900e+09</td>\n",
              "      <td>6.450000e+05</td>\n",
              "      <td>4.000000</td>\n",
              "      <td>2.500000</td>\n",
              "      <td>2550.000000</td>\n",
              "      <td>1.068800e+04</td>\n",
              "      <td>2.000000</td>\n",
              "      <td>0.000000</td>\n",
              "      <td>0.000000</td>\n",
              "      <td>4.000000</td>\n",
              "      <td>8.000000</td>\n",
              "      <td>2210.000000</td>\n",
              "      <td>560.000000</td>\n",
              "      <td>1997.000000</td>\n",
              "      <td>0.000000</td>\n",
              "      <td>98118.000000</td>\n",
              "      <td>47.678000</td>\n",
              "      <td>-122.125000</td>\n",
              "      <td>2360.000000</td>\n",
              "      <td>10083.000000</td>\n",
              "    </tr>\n",
              "    <tr>\n",
              "      <th>max</th>\n",
              "      <td>9.900000e+09</td>\n",
              "      <td>7.700000e+06</td>\n",
              "      <td>33.000000</td>\n",
              "      <td>8.000000</td>\n",
              "      <td>13540.000000</td>\n",
              "      <td>1.651359e+06</td>\n",
              "      <td>3.500000</td>\n",
              "      <td>1.000000</td>\n",
              "      <td>4.000000</td>\n",
              "      <td>5.000000</td>\n",
              "      <td>13.000000</td>\n",
              "      <td>9410.000000</td>\n",
              "      <td>4820.000000</td>\n",
              "      <td>2015.000000</td>\n",
              "      <td>2015.000000</td>\n",
              "      <td>98199.000000</td>\n",
              "      <td>47.777600</td>\n",
              "      <td>-121.315000</td>\n",
              "      <td>6210.000000</td>\n",
              "      <td>871200.000000</td>\n",
              "    </tr>\n",
              "  </tbody>\n",
              "</table>\n",
              "</div>\n",
              "    <div class=\"colab-df-buttons\">\n",
              "\n",
              "  <div class=\"colab-df-container\">\n",
              "    <button class=\"colab-df-convert\" onclick=\"convertToInteractive('df-bf3023c4-8732-44f7-aefd-66b7b13858d0')\"\n",
              "            title=\"Convert this dataframe to an interactive table.\"\n",
              "            style=\"display:none;\">\n",
              "\n",
              "  <svg xmlns=\"http://www.w3.org/2000/svg\" height=\"24px\" viewBox=\"0 -960 960 960\">\n",
              "    <path d=\"M120-120v-720h720v720H120Zm60-500h600v-160H180v160Zm220 220h160v-160H400v160Zm0 220h160v-160H400v160ZM180-400h160v-160H180v160Zm440 0h160v-160H620v160ZM180-180h160v-160H180v160Zm440 0h160v-160H620v160Z\"/>\n",
              "  </svg>\n",
              "    </button>\n",
              "\n",
              "  <style>\n",
              "    .colab-df-container {\n",
              "      display:flex;\n",
              "      gap: 12px;\n",
              "    }\n",
              "\n",
              "    .colab-df-convert {\n",
              "      background-color: #E8F0FE;\n",
              "      border: none;\n",
              "      border-radius: 50%;\n",
              "      cursor: pointer;\n",
              "      display: none;\n",
              "      fill: #1967D2;\n",
              "      height: 32px;\n",
              "      padding: 0 0 0 0;\n",
              "      width: 32px;\n",
              "    }\n",
              "\n",
              "    .colab-df-convert:hover {\n",
              "      background-color: #E2EBFA;\n",
              "      box-shadow: 0px 1px 2px rgba(60, 64, 67, 0.3), 0px 1px 3px 1px rgba(60, 64, 67, 0.15);\n",
              "      fill: #174EA6;\n",
              "    }\n",
              "\n",
              "    .colab-df-buttons div {\n",
              "      margin-bottom: 4px;\n",
              "    }\n",
              "\n",
              "    [theme=dark] .colab-df-convert {\n",
              "      background-color: #3B4455;\n",
              "      fill: #D2E3FC;\n",
              "    }\n",
              "\n",
              "    [theme=dark] .colab-df-convert:hover {\n",
              "      background-color: #434B5C;\n",
              "      box-shadow: 0px 1px 3px 1px rgba(0, 0, 0, 0.15);\n",
              "      filter: drop-shadow(0px 1px 2px rgba(0, 0, 0, 0.3));\n",
              "      fill: #FFFFFF;\n",
              "    }\n",
              "  </style>\n",
              "\n",
              "    <script>\n",
              "      const buttonEl =\n",
              "        document.querySelector('#df-bf3023c4-8732-44f7-aefd-66b7b13858d0 button.colab-df-convert');\n",
              "      buttonEl.style.display =\n",
              "        google.colab.kernel.accessAllowed ? 'block' : 'none';\n",
              "\n",
              "      async function convertToInteractive(key) {\n",
              "        const element = document.querySelector('#df-bf3023c4-8732-44f7-aefd-66b7b13858d0');\n",
              "        const dataTable =\n",
              "          await google.colab.kernel.invokeFunction('convertToInteractive',\n",
              "                                                    [key], {});\n",
              "        if (!dataTable) return;\n",
              "\n",
              "        const docLinkHtml = 'Like what you see? Visit the ' +\n",
              "          '<a target=\"_blank\" href=https://colab.research.google.com/notebooks/data_table.ipynb>data table notebook</a>'\n",
              "          + ' to learn more about interactive tables.';\n",
              "        element.innerHTML = '';\n",
              "        dataTable['output_type'] = 'display_data';\n",
              "        await google.colab.output.renderOutput(dataTable, element);\n",
              "        const docLink = document.createElement('div');\n",
              "        docLink.innerHTML = docLinkHtml;\n",
              "        element.appendChild(docLink);\n",
              "      }\n",
              "    </script>\n",
              "  </div>\n",
              "\n",
              "\n",
              "<div id=\"df-aeae3bd1-d60a-428a-83f4-34f8da3abf0a\">\n",
              "  <button class=\"colab-df-quickchart\" onclick=\"quickchart('df-aeae3bd1-d60a-428a-83f4-34f8da3abf0a')\"\n",
              "            title=\"Suggest charts\"\n",
              "            style=\"display:none;\">\n",
              "\n",
              "<svg xmlns=\"http://www.w3.org/2000/svg\" height=\"24px\"viewBox=\"0 0 24 24\"\n",
              "     width=\"24px\">\n",
              "    <g>\n",
              "        <path d=\"M19 3H5c-1.1 0-2 .9-2 2v14c0 1.1.9 2 2 2h14c1.1 0 2-.9 2-2V5c0-1.1-.9-2-2-2zM9 17H7v-7h2v7zm4 0h-2V7h2v10zm4 0h-2v-4h2v4z\"/>\n",
              "    </g>\n",
              "</svg>\n",
              "  </button>\n",
              "\n",
              "<style>\n",
              "  .colab-df-quickchart {\n",
              "      --bg-color: #E8F0FE;\n",
              "      --fill-color: #1967D2;\n",
              "      --hover-bg-color: #E2EBFA;\n",
              "      --hover-fill-color: #174EA6;\n",
              "      --disabled-fill-color: #AAA;\n",
              "      --disabled-bg-color: #DDD;\n",
              "  }\n",
              "\n",
              "  [theme=dark] .colab-df-quickchart {\n",
              "      --bg-color: #3B4455;\n",
              "      --fill-color: #D2E3FC;\n",
              "      --hover-bg-color: #434B5C;\n",
              "      --hover-fill-color: #FFFFFF;\n",
              "      --disabled-bg-color: #3B4455;\n",
              "      --disabled-fill-color: #666;\n",
              "  }\n",
              "\n",
              "  .colab-df-quickchart {\n",
              "    background-color: var(--bg-color);\n",
              "    border: none;\n",
              "    border-radius: 50%;\n",
              "    cursor: pointer;\n",
              "    display: none;\n",
              "    fill: var(--fill-color);\n",
              "    height: 32px;\n",
              "    padding: 0;\n",
              "    width: 32px;\n",
              "  }\n",
              "\n",
              "  .colab-df-quickchart:hover {\n",
              "    background-color: var(--hover-bg-color);\n",
              "    box-shadow: 0 1px 2px rgba(60, 64, 67, 0.3), 0 1px 3px 1px rgba(60, 64, 67, 0.15);\n",
              "    fill: var(--button-hover-fill-color);\n",
              "  }\n",
              "\n",
              "  .colab-df-quickchart-complete:disabled,\n",
              "  .colab-df-quickchart-complete:disabled:hover {\n",
              "    background-color: var(--disabled-bg-color);\n",
              "    fill: var(--disabled-fill-color);\n",
              "    box-shadow: none;\n",
              "  }\n",
              "\n",
              "  .colab-df-spinner {\n",
              "    border: 2px solid var(--fill-color);\n",
              "    border-color: transparent;\n",
              "    border-bottom-color: var(--fill-color);\n",
              "    animation:\n",
              "      spin 1s steps(1) infinite;\n",
              "  }\n",
              "\n",
              "  @keyframes spin {\n",
              "    0% {\n",
              "      border-color: transparent;\n",
              "      border-bottom-color: var(--fill-color);\n",
              "      border-left-color: var(--fill-color);\n",
              "    }\n",
              "    20% {\n",
              "      border-color: transparent;\n",
              "      border-left-color: var(--fill-color);\n",
              "      border-top-color: var(--fill-color);\n",
              "    }\n",
              "    30% {\n",
              "      border-color: transparent;\n",
              "      border-left-color: var(--fill-color);\n",
              "      border-top-color: var(--fill-color);\n",
              "      border-right-color: var(--fill-color);\n",
              "    }\n",
              "    40% {\n",
              "      border-color: transparent;\n",
              "      border-right-color: var(--fill-color);\n",
              "      border-top-color: var(--fill-color);\n",
              "    }\n",
              "    60% {\n",
              "      border-color: transparent;\n",
              "      border-right-color: var(--fill-color);\n",
              "    }\n",
              "    80% {\n",
              "      border-color: transparent;\n",
              "      border-right-color: var(--fill-color);\n",
              "      border-bottom-color: var(--fill-color);\n",
              "    }\n",
              "    90% {\n",
              "      border-color: transparent;\n",
              "      border-bottom-color: var(--fill-color);\n",
              "    }\n",
              "  }\n",
              "</style>\n",
              "\n",
              "  <script>\n",
              "    async function quickchart(key) {\n",
              "      const quickchartButtonEl =\n",
              "        document.querySelector('#' + key + ' button');\n",
              "      quickchartButtonEl.disabled = true;  // To prevent multiple clicks.\n",
              "      quickchartButtonEl.classList.add('colab-df-spinner');\n",
              "      try {\n",
              "        const charts = await google.colab.kernel.invokeFunction(\n",
              "            'suggestCharts', [key], {});\n",
              "      } catch (error) {\n",
              "        console.error('Error during call to suggestCharts:', error);\n",
              "      }\n",
              "      quickchartButtonEl.classList.remove('colab-df-spinner');\n",
              "      quickchartButtonEl.classList.add('colab-df-quickchart-complete');\n",
              "    }\n",
              "    (() => {\n",
              "      let quickchartButtonEl =\n",
              "        document.querySelector('#df-aeae3bd1-d60a-428a-83f4-34f8da3abf0a button');\n",
              "      quickchartButtonEl.style.display =\n",
              "        google.colab.kernel.accessAllowed ? 'block' : 'none';\n",
              "    })();\n",
              "  </script>\n",
              "</div>\n",
              "\n",
              "    </div>\n",
              "  </div>\n"
            ],
            "application/vnd.google.colaboratory.intrinsic+json": {
              "type": "dataframe",
              "summary": "{\n  \"name\": \"house_dataset_kan\",\n  \"rows\": 8,\n  \"fields\": [\n    {\n      \"column\": \"id\",\n      \"properties\": {\n        \"dtype\": \"number\",\n        \"std\": 3436537616.4100027,\n        \"min\": 21613.0,\n        \"max\": 9900000190.0,\n        \"num_unique_values\": 8,\n        \"samples\": [\n          4580301520.864988,\n          3904930410.0,\n          21613.0\n        ],\n        \"semantic_type\": \"\",\n        \"description\": \"\"\n      }\n    },\n    {\n      \"column\": \"price\",\n      \"properties\": {\n        \"dtype\": \"number\",\n        \"std\": 2608803.1528446754,\n        \"min\": 21613.0,\n        \"max\": 7700000.0,\n        \"num_unique_values\": 8,\n        \"samples\": [\n          540088.1417665294,\n          450000.0,\n          21613.0\n        ],\n        \"semantic_type\": \"\",\n        \"description\": \"\"\n      }\n    },\n    {\n      \"column\": \"bedrooms\",\n      \"properties\": {\n        \"dtype\": \"number\",\n        \"std\": 7638.9680008312425,\n        \"min\": 0.0,\n        \"max\": 21613.0,\n        \"num_unique_values\": 7,\n        \"samples\": [\n          21613.0,\n          3.37084162309721,\n          4.0\n        ],\n        \"semantic_type\": \"\",\n        \"description\": \"\"\n      }\n    },\n    {\n      \"column\": \"bathrooms\",\n      \"properties\": {\n        \"dtype\": \"number\",\n        \"std\": 7640.471736224687,\n        \"min\": 0.0,\n        \"max\": 21613.0,\n        \"num_unique_values\": 8,\n        \"samples\": [\n          2.1147573219821405,\n          2.25,\n          21613.0\n        ],\n        \"semantic_type\": \"\",\n        \"description\": \"\"\n      }\n    },\n    {\n      \"column\": \"sqft_living\",\n      \"properties\": {\n        \"dtype\": \"number\",\n        \"std\": 7766.85900551995,\n        \"min\": 290.0,\n        \"max\": 21613.0,\n        \"num_unique_values\": 8,\n        \"samples\": [\n          2079.8997362698374,\n          1910.0,\n          21613.0\n        ],\n        \"semantic_type\": \"\",\n        \"description\": \"\"\n      }\n    },\n    {\n      \"column\": \"sqft_lot\",\n      \"properties\": {\n        \"dtype\": \"number\",\n        \"std\": 578829.9990074945,\n        \"min\": 520.0,\n        \"max\": 1651359.0,\n        \"num_unique_values\": 8,\n        \"samples\": [\n          15106.967565816869,\n          7618.0,\n          21613.0\n        ],\n        \"semantic_type\": \"\",\n        \"description\": \"\"\n      }\n    },\n    {\n      \"column\": \"floors\",\n      \"properties\": {\n        \"dtype\": \"number\",\n        \"std\": 7640.792167327785,\n        \"min\": 0.5399888951423463,\n        \"max\": 21613.0,\n        \"num_unique_values\": 7,\n        \"samples\": [\n          21613.0,\n          1.4943089807060566,\n          2.0\n        ],\n        \"semantic_type\": \"\",\n        \"description\": \"\"\n      }\n    },\n    {\n      \"column\": \"waterfront\",\n      \"properties\": {\n        \"dtype\": \"number\",\n        \"std\": 7641.294180390358,\n        \"min\": 0.0,\n        \"max\": 21613.0,\n        \"num_unique_values\": 5,\n        \"samples\": [\n          0.007541757275713691,\n          1.0,\n          0.08651719772788764\n        ],\n        \"semantic_type\": \"\",\n        \"description\": \"\"\n      }\n    },\n    {\n      \"column\": \"view\",\n      \"properties\": {\n        \"dtype\": \"number\",\n        \"std\": 7641.096983567199,\n        \"min\": 0.0,\n        \"max\": 21613.0,\n        \"num_unique_values\": 5,\n        \"samples\": [\n          0.23430342849211122,\n          4.0,\n          0.7663175692736122\n        ],\n        \"semantic_type\": \"\",\n        \"description\": \"\"\n      }\n    },\n    {\n      \"column\": \"condition\",\n      \"properties\": {\n        \"dtype\": \"number\",\n        \"std\": 7640.336375298775,\n        \"min\": 0.6507430463662071,\n        \"max\": 21613.0,\n        \"num_unique_values\": 7,\n        \"samples\": [\n          21613.0,\n          3.4094295100171195,\n          4.0\n        ],\n        \"semantic_type\": \"\",\n        \"description\": \"\"\n      }\n    },\n    {\n      \"column\": \"grade\",\n      \"properties\": {\n        \"dtype\": \"number\",\n        \"std\": 7639.08603681126,\n        \"min\": 1.0,\n        \"max\": 21613.0,\n        \"num_unique_values\": 7,\n        \"samples\": [\n          21613.0,\n          7.656873178179799,\n          8.0\n        ],\n        \"semantic_type\": \"\",\n        \"description\": \"\"\n      }\n    },\n    {\n      \"column\": \"sqft_above\",\n      \"properties\": {\n        \"dtype\": \"number\",\n        \"std\": 7361.316573579324,\n        \"min\": 290.0,\n        \"max\": 21613.0,\n        \"num_unique_values\": 8,\n        \"samples\": [\n          1788.3906907879516,\n          1560.0,\n          21613.0\n        ],\n        \"semantic_type\": \"\",\n        \"description\": \"\"\n      }\n    },\n    {\n      \"column\": \"sqft_basement\",\n      \"properties\": {\n        \"dtype\": \"number\",\n        \"std\": 7510.466222812158,\n        \"min\": 0.0,\n        \"max\": 21613.0,\n        \"num_unique_values\": 6,\n        \"samples\": [\n          21613.0,\n          291.5090454818859,\n          4820.0\n        ],\n        \"semantic_type\": \"\",\n        \"description\": \"\"\n      }\n    },\n    {\n      \"column\": \"yr_built\",\n      \"properties\": {\n        \"dtype\": \"number\",\n        \"std\": 7076.1007443477365,\n        \"min\": 29.37341080238659,\n        \"max\": 21613.0,\n        \"num_unique_values\": 8,\n        \"samples\": [\n          1971.0051357978994,\n          1975.0,\n          21613.0\n        ],\n        \"semantic_type\": \"\",\n        \"description\": \"\"\n      }\n    },\n    {\n      \"column\": \"yr_renovated\",\n      \"properties\": {\n        \"dtype\": \"number\",\n        \"std\": 7546.658183233566,\n        \"min\": 0.0,\n        \"max\": 21613.0,\n        \"num_unique_values\": 5,\n        \"samples\": [\n          84.40225790033776,\n          2015.0,\n          401.6792400191759\n        ],\n        \"semantic_type\": \"\",\n        \"description\": \"\"\n      }\n    },\n    {\n      \"column\": \"zipcode\",\n      \"properties\": {\n        \"dtype\": \"number\",\n        \"std\": 40797.46261995304,\n        \"min\": 53.505026257473084,\n        \"max\": 98199.0,\n        \"num_unique_values\": 8,\n        \"samples\": [\n          98077.93980474715,\n          98065.0,\n          21613.0\n        ],\n        \"semantic_type\": \"\",\n        \"description\": \"\"\n      }\n    },\n    {\n      \"column\": \"lat\",\n      \"properties\": {\n        \"dtype\": \"number\",\n        \"std\": 7626.954967781561,\n        \"min\": 0.13856371024192418,\n        \"max\": 21613.0,\n        \"num_unique_values\": 8,\n        \"samples\": [\n          47.56005251931708,\n          47.5718,\n          21613.0\n        ],\n        \"semantic_type\": \"\",\n        \"description\": \"\"\n      }\n    },\n    {\n      \"column\": \"long\",\n      \"properties\": {\n        \"dtype\": \"number\",\n        \"std\": 7678.470015507025,\n        \"min\": -122.519,\n        \"max\": 21613.0,\n        \"num_unique_values\": 8,\n        \"samples\": [\n          -122.21389640494147,\n          -122.23,\n          21613.0\n        ],\n        \"semantic_type\": \"\",\n        \"description\": \"\"\n      }\n    },\n    {\n      \"column\": \"sqft_living15\",\n      \"properties\": {\n        \"dtype\": \"number\",\n        \"std\": 7112.749157923504,\n        \"min\": 399.0,\n        \"max\": 21613.0,\n        \"num_unique_values\": 8,\n        \"samples\": [\n          1986.552491556008,\n          1840.0,\n          21613.0\n        ],\n        \"semantic_type\": \"\",\n        \"description\": \"\"\n      }\n    },\n    {\n      \"column\": \"sqft_lot15\",\n      \"properties\": {\n        \"dtype\": \"number\",\n        \"std\": 303839.26467140246,\n        \"min\": 651.0,\n        \"max\": 871200.0,\n        \"num_unique_values\": 8,\n        \"samples\": [\n          12768.455651691113,\n          7620.0,\n          21613.0\n        ],\n        \"semantic_type\": \"\",\n        \"description\": \"\"\n      }\n    }\n  ]\n}"
            }
          },
          "metadata": {},
          "execution_count": 40
        }
      ]
    },
    {
      "cell_type": "code",
      "source": [
        "# house_dataset = HousePricesDataset(csv_file='/content/kc_house_data.csv')\n",
        "house_dataset_kan = pd.read_csv('/content/kc_house_data.csv')\n",
        "\n",
        "\n",
        "\n",
        "# features = ['bedrooms', 'bathrooms', 'sqft_living', 'floors', 'condition', 'grade', 'sqft_basement']\n",
        "features = ['bedrooms', 'bathrooms', 'sqft_living', 'view', 'grade', 'sqft_above', 'sqft_basement']\n",
        "\n",
        "# house['bedrooms'], house['bathrooms'], house['sqft_living'], house['view'], house['grade'], house['sqft_above'], house['sqft_basement'], house['price']\n",
        "# total_features = ['price', 'bedrooms', 'bathrooms', 'sqft_living', 'sqft_lot', 'floors', 'waterfront', 'view', 'condition', 'grade', 'sqft_above', 'sqft_basement', 'yr_built', 'yr_renovated', 'zipcode' ]\n",
        "\n",
        "# house['bedrooms'], house['bathrooms'], house['sqft_living'], house['floors'], house['condition'], house['grade'],  house['sqft_basement'], house['price']\n",
        "\n",
        "            # 'grade', 'view', 'sqft_above', 'sqft_basement', 'sqft_living', 'yr_built', 'yr_renovated',\n",
        "            # 'waterfront' , 'zipcode'\n",
        "label = 'price'\n",
        "\n",
        "# Split the dataset into input features (X) and label (y)\n",
        "X = house_dataset_kan[features]\n",
        "y = house_dataset_kan[label]\n",
        "\n",
        "# std_scaler = StandardScaler()\n",
        "minmax_scaler = MinMaxScaler()\n",
        "X_normalized= minmax_scaler.fit_transform(X)\n",
        "\n",
        "\n",
        "\n",
        "# Split the data into 70% train, 20% validation, and 10% test\n",
        "# First, split 80% (train+validation) and 20% (test)\n",
        "X_train_val, X_test, y_train_val, y_test = train_test_split(X_normalized, y, test_size=0.1, random_state=14)\n",
        "\n",
        "# Next, split the 80% (train+validation) into 70% train and 20% validation\n",
        "X_train, X_val, y_train, y_val = train_test_split(X_train_val, y_train_val, test_size=0.2, random_state=14)\n",
        "\n",
        "# Print the shapes of the splits to verify\n",
        "# print(f'Training set size: {X_train.shape[0]}')\n",
        "# print(f'Validation set size: {X_val.shape[0]}')\n",
        "# print(f'Test set size: {X_test.shape[0]}')\n",
        "\n",
        "#Full dataset\n",
        "# X_train_tensor = torch.tensor(X_train.values, dtype=torch.float32)\n",
        "# y_train_tensor = torch.tensor(y_train.values, dtype=torch.float32)\n",
        "\n",
        "X_train_s= X_train[:100,:]\n",
        "Y_train_s= y_train[:100]\n",
        "\n",
        "X_train_tensor_s = torch.tensor(X_train_s, dtype=torch.float32)\n",
        "y_train_tensor_s = torch.tensor(Y_train_s.values, dtype=torch.float32)\n",
        "\n",
        "# X_train_tensor = torch.tensor(X_train, dtype=torch.float32)\n",
        "# y_train_tensor = torch.tensor(y_train.values, dtype=torch.float32)\n",
        "\n",
        "\n",
        "# Creating dataset for the KAN from the data\n",
        "\n",
        "# x = torch.rand(100,2)\n",
        "# y = torch.rand(100,1)\n",
        "dataset = create_dataset_from_data(X_train_tensor_s, y_train_tensor_s, device=device)\n",
        "# print(dataset)\n",
        "\n",
        "\n",
        "\n",
        "\n",
        "\n",
        "\n",
        "# house_dataset_kan_train, house_dataset_kan_validation, house_dataset_kan_test = torch.utils.data.random_split(house_dataset, [0.7, 0.2, 0.1])\n",
        "# print(len(house_dataset_kan_train))\n",
        "# print(len(house_dataset_kan_validation))\n",
        "# print(len(house_dataset_kan_test))\n",
        "\n",
        "# print(house_dataset_kan)\n",
        "# print(house_dataset_kan)\n"
      ],
      "metadata": {
        "id": "fm1WJ4oZP92W"
      },
      "execution_count": 5,
      "outputs": []
    },
    {
      "cell_type": "code",
      "source": [
        "print(X_train)"
      ],
      "metadata": {
        "colab": {
          "base_uri": "https://localhost:8080/"
        },
        "collapsed": true,
        "id": "VTA_8nExu-P4",
        "outputId": "c4b36d29-ba98-44e9-edb2-f59a5c5a8df1"
      },
      "execution_count": 42,
      "outputs": [
        {
          "output_type": "stream",
          "name": "stdout",
          "text": [
            "[[0.09090909 0.21875    0.08754717 0.        ]\n",
            " [0.09090909 0.25       0.09207547 0.        ]\n",
            " [0.09090909 0.34375    0.12075472 0.        ]\n",
            " ...\n",
            " [0.06060606 0.125      0.0309434  0.        ]\n",
            " [0.06060606 0.28125    0.08603774 0.        ]\n",
            " [0.09090909 0.3125     0.10943396 0.        ]]\n"
          ]
        }
      ]
    },
    {
      "cell_type": "code",
      "source": [
        "print(y_train)"
      ],
      "metadata": {
        "colab": {
          "base_uri": "https://localhost:8080/"
        },
        "collapsed": true,
        "id": "8728H9OTwh1R",
        "outputId": "71f2b684-105e-4081-b8ad-df00cbaebd48"
      },
      "execution_count": 43,
      "outputs": [
        {
          "output_type": "stream",
          "name": "stdout",
          "text": [
            "11781    265000.0\n",
            "494      397500.0\n",
            "19096    375000.0\n",
            "21247    510000.0\n",
            "4266     562000.0\n",
            "           ...   \n",
            "8408     699000.0\n",
            "5401     295000.0\n",
            "16409    225000.0\n",
            "19715    522500.0\n",
            "2661     225000.0\n",
            "Name: price, Length: 15560, dtype: float64\n"
          ]
        }
      ]
    },
    {
      "cell_type": "code",
      "source": [
        "print(dataset)"
      ],
      "metadata": {
        "colab": {
          "base_uri": "https://localhost:8080/"
        },
        "collapsed": true,
        "id": "i0_Xexprw4SL",
        "outputId": "66168be0-53cd-4195-fb0a-8a2ca9b9b778"
      },
      "execution_count": 6,
      "outputs": [
        {
          "output_type": "stream",
          "name": "stdout",
          "text": [
            "{'train_input': tensor([[0.0909, 0.3125, 0.1592, 0.0000, 0.6667, 0.2314, 0.0000],\n",
            "        [0.0909, 0.1875, 0.0679, 0.7500, 0.5000, 0.0987, 0.0000],\n",
            "        [0.1212, 0.3125, 0.2408, 0.0000, 0.6667, 0.3498, 0.0000],\n",
            "        [0.1515, 0.4062, 0.2732, 0.0000, 0.6667, 0.2654, 0.2490],\n",
            "        [0.0909, 0.3125, 0.1132, 0.0000, 0.5833, 0.1645, 0.0000],\n",
            "        [0.0909, 0.1250, 0.0687, 0.0000, 0.5000, 0.0998, 0.0000],\n",
            "        [0.0909, 0.3125, 0.1185, 0.0000, 0.5833, 0.1721, 0.0000],\n",
            "        [0.1212, 0.3438, 0.1789, 0.0000, 0.5833, 0.1425, 0.2220],\n",
            "        [0.1515, 0.3125, 0.1109, 0.0000, 0.4167, 0.1612, 0.0000],\n",
            "        [0.1212, 0.3125, 0.1751, 0.0000, 0.5833, 0.2544, 0.0000],\n",
            "        [0.0909, 0.3125, 0.1592, 0.0000, 0.6667, 0.2314, 0.0000],\n",
            "        [0.0606, 0.1250, 0.0408, 0.0000, 0.4167, 0.0592, 0.0000],\n",
            "        [0.1212, 0.3125, 0.2234, 0.0000, 0.7500, 0.3246, 0.0000],\n",
            "        [0.1212, 0.2188, 0.1223, 0.0000, 0.5833, 0.1776, 0.0000],\n",
            "        [0.0909, 0.2812, 0.1140, 0.0000, 0.5000, 0.1656, 0.0000],\n",
            "        [0.1212, 0.2188, 0.1260, 0.0000, 0.5833, 0.1831, 0.0000],\n",
            "        [0.1515, 0.5312, 0.3585, 0.0000, 0.8333, 0.5208, 0.0000],\n",
            "        [0.0909, 0.1250, 0.0687, 0.0000, 0.5000, 0.0998, 0.0000],\n",
            "        [0.1212, 0.3125, 0.2181, 0.0000, 0.8333, 0.3169, 0.0000],\n",
            "        [0.0606, 0.3125, 0.0891, 0.0000, 0.5833, 0.1294, 0.0000],\n",
            "        [0.0909, 0.3438, 0.1208, 0.0000, 0.5833, 0.1754, 0.0000],\n",
            "        [0.1212, 0.3125, 0.2030, 0.0000, 0.6667, 0.2851, 0.0187],\n",
            "        [0.1212, 0.3125, 0.1660, 0.0000, 0.6667, 0.2412, 0.0000],\n",
            "        [0.1212, 0.1250, 0.1260, 0.0000, 0.5000, 0.1831, 0.0000],\n",
            "        [0.0909, 0.2812, 0.1781, 0.7500, 0.6667, 0.1623, 0.1826],\n",
            "        [0.0606, 0.1250, 0.0777, 0.0000, 0.4167, 0.1129, 0.0000],\n",
            "        [0.1212, 0.3438, 0.2143, 0.0000, 0.6667, 0.2029, 0.2054],\n",
            "        [0.0909, 0.4688, 0.1577, 0.0000, 0.5000, 0.1535, 0.1432],\n",
            "        [0.1212, 0.3125, 0.2257, 0.7500, 0.8333, 0.3279, 0.0000],\n",
            "        [0.0909, 0.1250, 0.0838, 0.0000, 0.5000, 0.1217, 0.0000],\n",
            "        [0.0909, 0.2188, 0.0928, 0.0000, 0.5833, 0.1349, 0.0000],\n",
            "        [0.1818, 0.3125, 0.2091, 0.0000, 0.5833, 0.1360, 0.3174],\n",
            "        [0.1212, 0.5312, 0.3540, 0.7500, 0.6667, 0.3059, 0.3942],\n",
            "        [0.0909, 0.3125, 0.1328, 0.0000, 0.5833, 0.1930, 0.0000],\n",
            "        [0.0909, 0.2500, 0.0762, 0.0000, 0.5000, 0.1107, 0.0000],\n",
            "        [0.0909, 0.3750, 0.0958, 0.0000, 0.5833, 0.1393, 0.0000],\n",
            "        [0.0909, 0.3125, 0.1192, 0.0000, 0.5833, 0.1732, 0.0000],\n",
            "        [0.1212, 0.2812, 0.1864, 0.0000, 0.5000, 0.1645, 0.2012],\n",
            "        [0.0909, 0.2812, 0.2030, 0.0000, 0.6667, 0.2456, 0.0934],\n",
            "        [0.0909, 0.3125, 0.1608, 0.0000, 0.5000, 0.2336, 0.0000],\n",
            "        [0.0606, 0.1250, 0.0528, 0.0000, 0.4167, 0.0768, 0.0000],\n",
            "        [0.1212, 0.3125, 0.1532, 0.0000, 0.5833, 0.2226, 0.0000],\n",
            "        [0.1515, 0.2500, 0.1668, 0.0000, 0.5000, 0.0822, 0.3029],\n",
            "        [0.1212, 0.4375, 0.2158, 0.0000, 0.5000, 0.3136, 0.0000],\n",
            "        [0.0606, 0.1250, 0.0574, 0.0000, 0.4167, 0.0603, 0.0436],\n",
            "        [0.0909, 0.3125, 0.1419, 0.0000, 0.6667, 0.2061, 0.0000],\n",
            "        [0.0909, 0.1250, 0.0838, 0.0000, 0.5000, 0.1217, 0.0000],\n",
            "        [0.0909, 0.2812, 0.1268, 0.0000, 0.5833, 0.1524, 0.0602],\n",
            "        [0.1212, 0.2188, 0.1555, 0.0000, 0.5833, 0.2259, 0.0000],\n",
            "        [0.0909, 0.1875, 0.1215, 0.0000, 0.5000, 0.1765, 0.0000],\n",
            "        [0.0606, 0.1875, 0.0702, 0.0000, 0.5833, 0.0899, 0.0228],\n",
            "        [0.1212, 0.4375, 0.2966, 0.0000, 0.7500, 0.4309, 0.0000],\n",
            "        [0.1212, 0.4062, 0.2830, 0.0000, 0.6667, 0.4112, 0.0000],\n",
            "        [0.0909, 0.3750, 0.2264, 0.5000, 0.5833, 0.2237, 0.1992],\n",
            "        [0.0909, 0.3438, 0.1743, 0.0000, 0.5000, 0.1162, 0.2593],\n",
            "        [0.0909, 0.1875, 0.0762, 0.0000, 0.5000, 0.1107, 0.0000],\n",
            "        [0.0606, 0.1250, 0.0392, 0.0000, 0.4167, 0.0570, 0.0000],\n",
            "        [0.0909, 0.1250, 0.0747, 0.0000, 0.4167, 0.1086, 0.0000],\n",
            "        [0.0606, 0.2812, 0.0891, 0.0000, 0.5833, 0.1151, 0.0270],\n",
            "        [0.0606, 0.1250, 0.0377, 0.5000, 0.5000, 0.0548, 0.0000],\n",
            "        [0.1212, 0.3125, 0.1434, 0.0000, 0.5000, 0.2083, 0.0000],\n",
            "        [0.0909, 0.2188, 0.1985, 0.0000, 0.5833, 0.1458, 0.2697],\n",
            "        [0.1212, 0.3750, 0.1374, 0.5000, 0.5000, 0.1480, 0.0975],\n",
            "        [0.0606, 0.1250, 0.0717, 0.0000, 0.5000, 0.1042, 0.0000],\n",
            "        [0.0909, 0.3125, 0.1962, 0.0000, 0.5833, 0.2851, 0.0000],\n",
            "        [0.0909, 0.2188, 0.1547, 0.0000, 0.4167, 0.0998, 0.2365],\n",
            "        [0.1212, 0.2188, 0.1562, 0.0000, 0.5000, 0.1502, 0.1452],\n",
            "        [0.1212, 0.2500, 0.0717, 0.0000, 0.5000, 0.0822, 0.0415],\n",
            "        [0.0909, 0.2188, 0.0875, 0.0000, 0.5000, 0.1272, 0.0000],\n",
            "        [0.0909, 0.3125, 0.0860, 0.0000, 0.5000, 0.1250, 0.0000],\n",
            "        [0.0909, 0.2188, 0.1366, 0.0000, 0.5000, 0.0866, 0.2116],\n",
            "        [0.1212, 0.2500, 0.0672, 0.0000, 0.5000, 0.0976, 0.0000],\n",
            "        [0.0909, 0.4375, 0.2634, 0.0000, 0.6667, 0.2346, 0.2801],\n",
            "        [0.1212, 0.2812, 0.1472, 0.0000, 0.5833, 0.1590, 0.1037],\n",
            "        [0.0909, 0.2500, 0.0928, 0.0000, 0.5000, 0.1349, 0.0000],\n",
            "        [0.1515, 0.4375, 0.2264, 0.0000, 0.6667, 0.2610, 0.1286],\n",
            "        [0.1212, 0.3125, 0.1668, 0.0000, 0.5000, 0.1053, 0.2593],\n",
            "        [0.1212, 0.3438, 0.1789, 0.0000, 0.6667, 0.2599, 0.0000],\n",
            "        [0.0909, 0.2188, 0.0921, 0.0000, 0.5000, 0.0625, 0.1349],\n",
            "        [0.0909, 0.2188, 0.0626, 0.5000, 0.5000, 0.0910, 0.0000]]), 'test_input': tensor([[0.0909, 0.2500, 0.0921, 0.0000, 0.5000, 0.0855, 0.0913],\n",
            "        [0.1212, 0.3125, 0.1389, 0.0000, 0.5833, 0.2018, 0.0000],\n",
            "        [0.0606, 0.1250, 0.0566, 0.0000, 0.5000, 0.0713, 0.0207],\n",
            "        [0.1212, 0.3125, 0.2317, 0.0000, 0.6667, 0.3366, 0.0000],\n",
            "        [0.1212, 0.1250, 0.0792, 0.0000, 0.5000, 0.1151, 0.0000],\n",
            "        [0.0909, 0.1250, 0.0521, 0.0000, 0.5000, 0.0757, 0.0000],\n",
            "        [0.0909, 0.1250, 0.0672, 0.0000, 0.5000, 0.0976, 0.0000],\n",
            "        [0.1212, 0.3125, 0.1857, 0.0000, 0.5833, 0.2697, 0.0000],\n",
            "        [0.1212, 0.3125, 0.2113, 0.7500, 0.5833, 0.1524, 0.2925],\n",
            "        [0.0909, 0.1250, 0.0725, 0.0000, 0.5000, 0.1053, 0.0000],\n",
            "        [0.1818, 0.4062, 0.3366, 0.0000, 0.5833, 0.4890, 0.0000],\n",
            "        [0.0909, 0.3438, 0.1079, 0.0000, 0.5000, 0.1568, 0.0000],\n",
            "        [0.0909, 0.3125, 0.1570, 0.0000, 0.5833, 0.2281, 0.0000],\n",
            "        [0.0909, 0.3125, 0.1502, 0.0000, 0.6667, 0.1754, 0.0809],\n",
            "        [0.0606, 0.1250, 0.0551, 0.0000, 0.5000, 0.0800, 0.0000],\n",
            "        [0.0606, 0.2500, 0.0672, 0.0000, 0.4167, 0.0976, 0.0000],\n",
            "        [0.1212, 0.2812, 0.1366, 0.0000, 0.5000, 0.0833, 0.2178],\n",
            "        [0.0909, 0.1250, 0.0543, 0.0000, 0.4167, 0.0789, 0.0000],\n",
            "        [0.0606, 0.1250, 0.0430, 0.0000, 0.4167, 0.0625, 0.0000],\n",
            "        [0.0909, 0.3125, 0.1298, 0.0000, 0.5000, 0.1886, 0.0000]]), 'train_label': tensor([ 535000.,  375000.,  808000.,  470000.,  272000.,  390000.,  505000.,\n",
            "         280500.,  220000.,  373500.,  570000.,  425000.,  791500.,  390000.,\n",
            "         332500.,  285500., 1284000.,  289500., 1227500.,  419000.,  375000.,\n",
            "         750000.,  616000.,  569500.,  898000.,  215000.,  835000.,  695000.,\n",
            "         810000.,  348125.,  240000.,  400000., 1250000.,  535500.,  240000.,\n",
            "         598500.,  377000.,  600000., 1225000.,  455600.,  329000.,  325900.,\n",
            "         455000.,  330000.,  209950.,  619500.,  887200.,  415000.,  850000.,\n",
            "         335000.,  465000., 1060000., 2271150.,  562000.,  430000.,  263000.,\n",
            "         170000.,  240000.,  510000.,  169317.,  435000.,  650000.,  610000.,\n",
            "         226800.,  421000.,  396000.,  805000.,  375000.,  265000.,  405000.,\n",
            "         440000.,  330000., 1810000.,  530000.,  434900.,  762500.,  772000.,\n",
            "         695000.,  624000.,  316000.]), 'test_label': tensor([397500., 392000., 425000., 740000., 205000., 340000., 205000., 535000.,\n",
            "        940000., 250000., 487000., 326000., 398096., 950000., 290000., 209900.,\n",
            "        335000., 225000., 170000., 350000.])}\n"
          ]
        }
      ]
    },
    {
      "cell_type": "code",
      "source": [
        "S_model_hd(dataset['train_input'])\n",
        "S_model_hd.plot(beta= 100)"
      ],
      "metadata": {
        "colab": {
          "base_uri": "https://localhost:8080/",
          "height": 345
        },
        "id": "9HxEcdeFP-Kd",
        "outputId": "59dd98c4-6135-4e41-a892-60bf6b7e0335",
        "collapsed": true
      },
      "execution_count": 7,
      "outputs": [
        {
          "output_type": "display_data",
          "data": {
            "text/plain": [
              "<Figure size 500x400 with 47 Axes>"
            ],
            "image/png": "[encoded data removed]"
          },
          "metadata": {}
        }
      ]
    },
    {
      "cell_type": "code",
      "source": [
        "S_model_hd.fit(dataset, opt= \"LBFGS\", steps= 20, lamb= 0, lr= 0.9)"
      ],
      "metadata": {
        "colab": {
          "base_uri": "https://localhost:8080/"
        },
        "id": "jWF36S15P-cO",
        "outputId": "87e942e8-e2da-4bcd-dab9-8ce5557a0cb0",
        "collapsed": true
      },
      "execution_count": 14,
      "outputs": [
        {
          "output_type": "stream",
          "name": "stderr",
          "text": [
            "| train_loss: 3.52e+05 | test_loss: 2.65e+05 | reg: 1.78e+04 | : 100%|█| 20/20 [00:04<00:00,  4.91it"
          ]
        },
        {
          "output_type": "stream",
          "name": "stdout",
          "text": [
            "saving model version 0.1\n"
          ]
        },
        {
          "output_type": "stream",
          "name": "stderr",
          "text": [
            "\n"
          ]
        },
        {
          "output_type": "execute_result",
          "data": {
            "text/plain": [
              "{'train_loss': [array(361159.66, dtype=float32),\n",
              "  array(352772.7, dtype=float32),\n",
              "  array(351971.97, dtype=float32),\n",
              "  array(351932.97, dtype=float32),\n",
              "  array(351928.47, dtype=float32),\n",
              "  array(351995.44, dtype=float32),\n",
              "  array(351931.3, dtype=float32),\n",
              "  array(351923.78, dtype=float32),\n",
              "  array(351920.53, dtype=float32),\n",
              "  array(351919.88, dtype=float32),\n",
              "  array(352057.97, dtype=float32),\n",
              "  array(351975., dtype=float32),\n",
              "  array(351952.78, dtype=float32),\n",
              "  array(351945.94, dtype=float32),\n",
              "  array(351945.2, dtype=float32),\n",
              "  array(352994.5, dtype=float32),\n",
              "  array(352615.16, dtype=float32),\n",
              "  array(352175.75, dtype=float32),\n",
              "  array(352072.34, dtype=float32),\n",
              "  array(352016.53, dtype=float32)],\n",
              " 'test_loss': [array(273236.56, dtype=float32),\n",
              "  array(265837.7, dtype=float32),\n",
              "  array(264224.44, dtype=float32),\n",
              "  array(265632.8, dtype=float32),\n",
              "  array(265272.38, dtype=float32),\n",
              "  array(265225.1, dtype=float32),\n",
              "  array(265364.47, dtype=float32),\n",
              "  array(265535.3, dtype=float32),\n",
              "  array(265699.3, dtype=float32),\n",
              "  array(265835.8, dtype=float32),\n",
              "  array(262055.97, dtype=float32),\n",
              "  array(264359.94, dtype=float32),\n",
              "  array(264785.97, dtype=float32),\n",
              "  array(264946.06, dtype=float32),\n",
              "  array(264834.1, dtype=float32),\n",
              "  array(259806.19, dtype=float32),\n",
              "  array(262888.4, dtype=float32),\n",
              "  array(263717.62, dtype=float32),\n",
              "  array(264226.9, dtype=float32),\n",
              "  array(264571.1, dtype=float32)],\n",
              " 'reg': [array(0., dtype=float32),\n",
              "  array(0., dtype=float32),\n",
              "  array(0., dtype=float32),\n",
              "  array(0., dtype=float32),\n",
              "  array(0., dtype=float32),\n",
              "  array(0., dtype=float32),\n",
              "  array(0., dtype=float32),\n",
              "  array(0., dtype=float32),\n",
              "  array(0., dtype=float32),\n",
              "  array(0., dtype=float32),\n",
              "  array(0., dtype=float32),\n",
              "  array(0., dtype=float32),\n",
              "  array(0., dtype=float32),\n",
              "  array(0., dtype=float32),\n",
              "  array(0., dtype=float32),\n",
              "  array(0., dtype=float32),\n",
              "  array(0., dtype=float32),\n",
              "  array(0., dtype=float32),\n",
              "  array(0., dtype=float32),\n",
              "  array(17778.71, dtype=float32)]}"
            ]
          },
          "metadata": {},
          "execution_count": 14
        }
      ]
    },
    {
      "cell_type": "code",
      "source": [
        "S_model_hd.plot(beta= 100)"
      ],
      "metadata": {
        "colab": {
          "base_uri": "https://localhost:8080/",
          "height": 345
        },
        "outputId": "81170071-6935-4dc1-c432-6f83058e64ec",
        "collapsed": true,
        "id": "bZ0fanklMwlH"
      },
      "execution_count": 15,
      "outputs": [
        {
          "output_type": "display_data",
          "data": {
            "text/plain": [
              "<Figure size 500x400 with 47 Axes>"
            ],
            "image/png": "[encoded data removed]"
          },
          "metadata": {}
        }
      ]
    },
    {
      "cell_type": "code",
      "source": [
        "model = S_model_hd.prune()\n",
        "model.plot()"
      ],
      "metadata": {
        "colab": {
          "base_uri": "https://localhost:8080/",
          "height": 362
        },
        "outputId": "d67deeac-8dcd-4e8a-ccab-a187310ce81f",
        "collapsed": true,
        "id": "oouGQ_IbMwlU"
      },
      "execution_count": 16,
      "outputs": [
        {
          "output_type": "stream",
          "name": "stdout",
          "text": [
            "saving model version 0.2\n"
          ]
        },
        {
          "output_type": "display_data",
          "data": {
            "text/plain": [
              "<Figure size 500x400 with 38 Axes>"
            ],
            "image/png": "[encoded data removed]"
          },
          "metadata": {}
        }
      ]
    },
    {
      "cell_type": "code",
      "source": [
        "model_a = S_model_hd.refine(10)"
      ],
      "metadata": {
        "colab": {
          "base_uri": "https://localhost:8080/"
        },
        "outputId": "84334a60-cdd8-435e-bec4-924e7a2c7e68",
        "id": "McgpgYXJMwlU"
      },
      "execution_count": 17,
      "outputs": [
        {
          "output_type": "stream",
          "name": "stdout",
          "text": [
            "saving model version 0.2\n"
          ]
        }
      ]
    },
    {
      "cell_type": "code",
      "source": [
        "model_a.fit(dataset, opt=\"LBFGS\", steps=20, lr= 0.9);"
      ],
      "metadata": {
        "colab": {
          "base_uri": "https://localhost:8080/"
        },
        "outputId": "ff40806e-8d80-4fc7-b504-6e10a93e25ae",
        "id": "u8EKoec-MwlU"
      },
      "execution_count": 18,
      "outputs": [
        {
          "output_type": "stream",
          "name": "stderr",
          "text": [
            "| train_loss: nan | test_loss: nan | reg: nan | : 100%|█████████████| 20/20 [00:06<00:00,  2.94it/s]"
          ]
        },
        {
          "output_type": "stream",
          "name": "stdout",
          "text": [
            "saving model version 0.3\n"
          ]
        },
        {
          "output_type": "stream",
          "name": "stderr",
          "text": [
            "\n"
          ]
        }
      ]
    },
    {
      "cell_type": "code",
      "source": [
        "mode = \"auto\" # \"manual\"\n",
        "\n",
        "if mode == \"manual\":\n",
        "    # manual mode\n",
        "    S_model_hd.fix_symbolic(0,0,0,'sin');\n",
        "    S_model_hd.fix_symbolic(0,1,0,'x^2');\n",
        "    S_model_hd.fix_symbolic(1,0,0,'exp');\n",
        "elif mode == \"auto\":\n",
        "    # automatic mode\n",
        "    lib = ['x','x^2','x^3','x^4','exp','log','sqrt','tanh','sin','abs']\n",
        "    #model.fit(dataset, opt=\"LBFGS\", steps=50) # Added this line to ensure activations are available\n",
        "    S_model_hd.auto_symbolic(lib=lib)"
      ],
      "metadata": {
        "colab": {
          "base_uri": "https://localhost:8080/"
        },
        "outputId": "9f71011a-4281-4033-f38c-975e40ab67bd",
        "id": "WmuK02l_MwlV"
      },
      "execution_count": 21,
      "outputs": [
        {
          "output_type": "stream",
          "name": "stdout",
          "text": [
            "fixing (0,0,0) with x, r2=0.669239342212677, c=1\n",
            "fixing (0,0,1) with x, r2=0.0028516727034002542, c=1\n",
            "fixing (0,0,2) with 0\n",
            "fixing (0,0,3) with x, r2=0.754431426525116, c=1\n",
            "fixing (0,0,4) with x, r2=0.7287935614585876, c=1\n",
            "fixing (0,1,0) with abs, r2=0.9987359642982483, c=3\n",
            "fixing (0,1,1) with sin, r2=0.9999771118164062, c=2\n",
            "fixing (0,1,2) with 0\n",
            "fixing (0,1,3) with x, r2=0.8550702929496765, c=1\n",
            "fixing (0,1,4) with sqrt, r2=0.9999894499778748, c=2\n",
            "fixing (0,2,0) with x, r2=0.6599964499473572, c=1\n",
            "fixing (0,2,1) with sin, r2=0.9922166466712952, c=2\n",
            "fixing (0,2,2) with 0\n",
            "fixing (0,2,3) with x, r2=0.5435519218444824, c=1\n",
            "fixing (0,2,4) with x, r2=0.24004532396793365, c=1\n",
            "fixing (0,3,0) with x, r2=1.000001311302185, c=1\n",
            "fixing (0,3,1) with x, r2=1.000002145767212, c=1\n",
            "fixing (0,3,2) with 0\n",
            "fixing (0,3,3) with x, r2=1.0000022649765015, c=1\n",
            "fixing (0,3,4) with x, r2=1.0000017881393433, c=1\n",
            "fixing (0,4,0) with x, r2=0.2224971354007721, c=1\n",
            "fixing (0,4,1) with x, r2=0.9352297782897949, c=1\n",
            "fixing (0,4,2) with 0\n",
            "fixing (0,4,3) with abs, r2=0.9995813369750977, c=3\n",
            "fixing (0,4,4) with x^4, r2=0.9997745156288147, c=3\n",
            "fixing (0,5,0) with x, r2=0.7554764151573181, c=1\n",
            "fixing (0,5,1) with sin, r2=0.9920827150344849, c=2\n",
            "fixing (0,5,2) with 0\n",
            "fixing (0,5,3) with x^2, r2=0.9846500158309937, c=2\n",
            "fixing (0,5,4) with x, r2=0.36206766963005066, c=1\n",
            "fixing (0,6,0) with x, r2=0.9286755323410034, c=1\n",
            "fixing (0,6,1) with x, r2=0.9545471668243408, c=1\n",
            "fixing (0,6,2) with 0\n",
            "fixing (0,6,3) with sin, r2=0.9999041557312012, c=2\n",
            "fixing (0,6,4) with x, r2=0.9651679396629333, c=1\n",
            "fixing (1,0,0) with exp, r2=0.9999962449073792, c=2\n",
            "fixing (1,1,0) with x, r2=0.9999602437019348, c=1\n",
            "fixing (1,2,0) with 0\n",
            "fixing (1,3,0) with x, r2=1.0000004768371582, c=1\n",
            "fixing (1,4,0) with x, r2=0.9999690055847168, c=1\n",
            "saving model version 0.3\n"
          ]
        }
      ]
    },
    {
      "cell_type": "code",
      "source": [
        "model.fit(dataset, opt=\"LBFGS\", steps=50);"
      ],
      "metadata": {
        "colab": {
          "base_uri": "https://localhost:8080/"
        },
        "outputId": "42cb6921-2250-468c-8e13-ca51bd81f871",
        "id": "4lVFMZ3mMwlV"
      },
      "execution_count": null,
      "outputs": [
        {
          "output_type": "stream",
          "name": "stderr",
          "text": [
            "| train_loss: 1.96e-10 | test_loss: 1.44e-10 | reg: 0.00e+00 | : 100%|█| 50/50 [00:05<00:00,  8.78it"
          ]
        },
        {
          "output_type": "stream",
          "name": "stdout",
          "text": [
            "saving model version 0.7\n"
          ]
        },
        {
          "output_type": "stream",
          "name": "stderr",
          "text": [
            "\n"
          ]
        }
      ]
    },
    {
      "cell_type": "code",
      "source": [
        "from kan.utils import ex_round\n",
        "\n",
        "ex_round(S_model_hd.symbolic_formula()[0][0],4)"
      ],
      "metadata": {
        "colab": {
          "base_uri": "https://localhost:8080/",
          "height": 85
        },
        "outputId": "7f80e772-2109-4062-b38a-b6901b43fe1f",
        "id": "jZtzwa-_MwlV"
      },
      "execution_count": 22,
      "outputs": [
        {
          "output_type": "execute_result",
          "data": {
            "text/plain": [
              "-87530.0732*x_1 - 40907.5397*x_2 + 11862.9681*x_3 - 21545.3375*x_4 - 163.8594*x_5 - 31.796*x_6 - 136.1265*x_7 - 227483.0777*(0.3215 - x_6)**2 - 9933.0506*(0.5656 - x_5)**4 + 3.1999*sqrt(x_2 - 0.0703) + 43.6465*sin(8.9901*x_2 - 8.0015) - 14.765*sin(9.922*x_3 + 2.188) - 27.0838*sin(8.4143*x_6 + 4.592) + 17289.5943*sin(5.0799*x_7 + 6.4317) - 5058.9228*Abs(8.878*x_5 - 4.5391) + 576951.0914"
            ],
            "text/latex": "$\\displaystyle - 87530.0732 x_{1} - 40907.5397 x_{2} + 11862.9681 x_{3} - 21545.3375 x_{4} - 163.8594 x_{5} - 31.796 x_{6} - 136.1265 x_{7} - 227483.0777 \\left(0.3215 - x_{6}\\right)^{2} - 9933.0506 \\left(0.5656 - x_{5}\\right)^{4} + 3.1999 \\sqrt{x_{2} - 0.0703} + 43.6465 \\sin{\\left(8.9901 x_{2} - 8.0015 \\right)} - 14.765 \\sin{\\left(9.922 x_{3} + 2.188 \\right)} - 27.0838 \\sin{\\left(8.4143 x_{6} + 4.592 \\right)} + 17289.5943 \\sin{\\left(5.0799 x_{7} + 6.4317 \\right)} - 5058.9228 \\left|{8.878 x_{5} - 4.5391}\\right| + 576951.0914$"
          },
          "metadata": {},
          "execution_count": 22
        }
      ]
    },
    {
      "cell_type": "code",
      "source": [],
      "metadata": {
        "id": "DBrMc7TpnbDu"
      },
      "execution_count": null,
      "outputs": []
    }
  ]
}